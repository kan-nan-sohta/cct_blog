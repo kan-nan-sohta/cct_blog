{
 "cells": [
  {
   "cell_type": "code",
   "execution_count": 1,
   "metadata": {
    "collapsed": true
   },
   "outputs": [],
   "source": [
    "import pymc3 as pm\n",
    "import numpy as np\n",
    "import pandas as pd\n",
    "import scipy.stats as stats\n",
    "import matplotlib.pyplot as plt\n",
    "import seaborn as sns\n",
    "import theano.tensor as tt\n",
    "plt.style.use('seaborn-darkgrid')\n",
    "np.set_printoptions(precision=2)\n",
    "pd.set_option('display.precision', 2)"
   ]
  },
  {
   "cell_type": "code",
   "execution_count": 2,
   "metadata": {
    "collapsed": true
   },
   "outputs": [],
   "source": [
    "z = np.linspace(-10, 10, 100)\n",
    "logistic = 1 / (1 + np.exp(-z))\n",
    "plt.plot(z, logistic)\n",
    "plt.xlabel('$z$', fontsize=16)\n",
    "plt.ylabel('$logistic(z)$', fontsize=16)\n",
    "plt.savefig('img501.png')\n",
    "plt.close()"
   ]
  },
  {
   "cell_type": "code",
   "execution_count": 3,
   "metadata": {},
   "outputs": [
    {
     "data": {
      "text/html": [
       "<div>\n",
       "<style scoped>\n",
       "    .dataframe tbody tr th:only-of-type {\n",
       "        vertical-align: middle;\n",
       "    }\n",
       "\n",
       "    .dataframe tbody tr th {\n",
       "        vertical-align: top;\n",
       "    }\n",
       "\n",
       "    .dataframe thead th {\n",
       "        text-align: right;\n",
       "    }\n",
       "</style>\n",
       "<table border=\"1\" class=\"dataframe\">\n",
       "  <thead>\n",
       "    <tr style=\"text-align: right;\">\n",
       "      <th></th>\n",
       "      <th>sepal_length</th>\n",
       "      <th>sepal_width</th>\n",
       "      <th>petal_length</th>\n",
       "      <th>petal_width</th>\n",
       "      <th>species</th>\n",
       "    </tr>\n",
       "  </thead>\n",
       "  <tbody>\n",
       "    <tr>\n",
       "      <th>0</th>\n",
       "      <td>5.1</td>\n",
       "      <td>3.5</td>\n",
       "      <td>1.4</td>\n",
       "      <td>0.2</td>\n",
       "      <td>setosa</td>\n",
       "    </tr>\n",
       "    <tr>\n",
       "      <th>1</th>\n",
       "      <td>4.9</td>\n",
       "      <td>3.0</td>\n",
       "      <td>1.4</td>\n",
       "      <td>0.2</td>\n",
       "      <td>setosa</td>\n",
       "    </tr>\n",
       "    <tr>\n",
       "      <th>2</th>\n",
       "      <td>4.7</td>\n",
       "      <td>3.2</td>\n",
       "      <td>1.3</td>\n",
       "      <td>0.2</td>\n",
       "      <td>setosa</td>\n",
       "    </tr>\n",
       "    <tr>\n",
       "      <th>3</th>\n",
       "      <td>4.6</td>\n",
       "      <td>3.1</td>\n",
       "      <td>1.5</td>\n",
       "      <td>0.2</td>\n",
       "      <td>setosa</td>\n",
       "    </tr>\n",
       "    <tr>\n",
       "      <th>4</th>\n",
       "      <td>5.0</td>\n",
       "      <td>3.6</td>\n",
       "      <td>1.4</td>\n",
       "      <td>0.2</td>\n",
       "      <td>setosa</td>\n",
       "    </tr>\n",
       "  </tbody>\n",
       "</table>\n",
       "</div>"
      ],
      "text/plain": [
       "   sepal_length  sepal_width  petal_length  petal_width species\n",
       "0           5.1          3.5           1.4          0.2  setosa\n",
       "1           4.9          3.0           1.4          0.2  setosa\n",
       "2           4.7          3.2           1.3          0.2  setosa\n",
       "3           4.6          3.1           1.5          0.2  setosa\n",
       "4           5.0          3.6           1.4          0.2  setosa"
      ]
     },
     "execution_count": 3,
     "metadata": {},
     "output_type": "execute_result"
    }
   ],
   "source": [
    "iris = sns.load_dataset('iris')\n",
    "iris.head()"
   ]
  },
  {
   "cell_type": "code",
   "execution_count": 4,
   "metadata": {
    "collapsed": true
   },
   "outputs": [],
   "source": [
    "sns.stripplot(x='species', y='sepal_length', data=iris, jitter=False)\n",
    "plt.savefig('img503.png')\n",
    "plt.close()"
   ]
  },
  {
   "cell_type": "code",
   "execution_count": 5,
   "metadata": {},
   "outputs": [
    {
     "name": "stderr",
     "output_type": "stream",
     "text": [
      "/Users/kumada/.pyenv/versions/anaconda3-5.0.0/lib/python3.6/site-packages/seaborn/categorical.py:598: FutureWarning: remove_na is deprecated and is a private function. Do not use.\n",
      "  kde_data = remove_na(group_data)\n",
      "/Users/kumada/.pyenv/versions/anaconda3-5.0.0/lib/python3.6/site-packages/seaborn/categorical.py:826: FutureWarning: remove_na is deprecated and is a private function. Do not use.\n",
      "  violin_data = remove_na(group_data)\n"
     ]
    }
   ],
   "source": [
    "sns.violinplot(x='species', y='sepal_length', data=iris)\n",
    "plt.savefig('img503-1.png')\n",
    "plt.close()"
   ]
  },
  {
   "cell_type": "code",
   "execution_count": 6,
   "metadata": {
    "collapsed": true
   },
   "outputs": [],
   "source": [
    "sns.pairplot(iris, hue='species', diag_kind='kde')\n",
    "plt.savefig('img504.png')\n",
    "plt.close()"
   ]
  },
  {
   "cell_type": "code",
   "execution_count": 7,
   "metadata": {
    "collapsed": true
   },
   "outputs": [],
   "source": [
    "df = iris.query(\"species == ('setosa', 'versicolor')\")\n",
    "y_0 = pd.Categorical(df['species']).codes\n",
    "x_n = 'sepal_length'\n",
    "x_0 = df[x_n].values"
   ]
  },
  {
   "cell_type": "code",
   "execution_count": 8,
   "metadata": {},
   "outputs": [
    {
     "data": {
      "text/plain": [
       "array([0, 0, 0, 0, 0, 0, 0, 0, 0, 0, 0, 0, 0, 0, 0, 0, 0, 0, 0, 0, 0, 0,\n",
       "       0, 0, 0, 0, 0, 0, 0, 0, 0, 0, 0, 0, 0, 0, 0, 0, 0, 0, 0, 0, 0, 0,\n",
       "       0, 0, 0, 0, 0, 0, 1, 1, 1, 1, 1, 1, 1, 1, 1, 1, 1, 1, 1, 1, 1, 1,\n",
       "       1, 1, 1, 1, 1, 1, 1, 1, 1, 1, 1, 1, 1, 1, 1, 1, 1, 1, 1, 1, 1, 1,\n",
       "       1, 1, 1, 1, 1, 1, 1, 1, 1, 1, 1, 1], dtype=int8)"
      ]
     },
     "execution_count": 8,
     "metadata": {},
     "output_type": "execute_result"
    }
   ],
   "source": [
    "y_0"
   ]
  },
  {
   "cell_type": "code",
   "execution_count": 9,
   "metadata": {},
   "outputs": [
    {
     "data": {
      "text/plain": [
       "array([5.1, 4.9, 4.7, 4.6, 5. , 5.4, 4.6, 5. , 4.4, 4.9, 5.4, 4.8, 4.8,\n",
       "       4.3, 5.8, 5.7, 5.4, 5.1, 5.7, 5.1, 5.4, 5.1, 4.6, 5.1, 4.8, 5. ,\n",
       "       5. , 5.2, 5.2, 4.7, 4.8, 5.4, 5.2, 5.5, 4.9, 5. , 5.5, 4.9, 4.4,\n",
       "       5.1, 5. , 4.5, 4.4, 5. , 5.1, 4.8, 5.1, 4.6, 5.3, 5. , 7. , 6.4,\n",
       "       6.9, 5.5, 6.5, 5.7, 6.3, 4.9, 6.6, 5.2, 5. , 5.9, 6. , 6.1, 5.6,\n",
       "       6.7, 5.6, 5.8, 6.2, 5.6, 5.9, 6.1, 6.3, 6.1, 6.4, 6.6, 6.8, 6.7,\n",
       "       6. , 5.7, 5.5, 5.5, 5.8, 6. , 5.4, 6. , 6.7, 6.3, 5.6, 5.5, 5.5,\n",
       "       6.1, 5.8, 5. , 5.6, 5.7, 5.7, 6.2, 5.1, 5.7])"
      ]
     },
     "execution_count": 9,
     "metadata": {},
     "output_type": "execute_result"
    }
   ],
   "source": [
    "x_0"
   ]
  },
  {
   "cell_type": "code",
   "execution_count": 10,
   "metadata": {},
   "outputs": [
    {
     "name": "stderr",
     "output_type": "stream",
     "text": [
      "Auto-assigning NUTS sampler...\n",
      "Initializing NUTS using jitter+adapt_diag...\n",
      "Multiprocess sampling (4 chains in 4 jobs)\n",
      "NUTS: [beta, alpha]\n",
      "Sampling 4 chains: 100%|██████████| 22000/22000 [00:15<00:00, 1380.92draws/s]\n",
      "The number of effective samples is smaller than 25% for some parameters.\n"
     ]
    }
   ],
   "source": [
    "with pm.Model() as model_0:\n",
    "    alpha = pm.Normal('alpha', mu=0, sd=10)\n",
    "    beta = pm.Normal('beta', mu=0, sd=10)\n",
    "    mu = alpha + pm.math.dot(x_0, beta)\n",
    "    theta = pm.Deterministic('theta', 1 / (1 + pm.math.exp(-mu)))\n",
    "    bd = pm.Deterministic('bd', -alpha / beta)\n",
    "    yl = pm.Bernoulli('yl', p=theta, observed=y_0)\n",
    "    trace_0 = pm.sample(5000)\n",
    "    \n",
    "chain_0 = trace_0[1000:]\n",
    "varnames = ['alpha', 'beta', 'bd']\n",
    "pm.traceplot(chain_0, varnames)\n",
    "plt.savefig('img505.png')\n",
    "plt.close()"
   ]
  },
  {
   "cell_type": "code",
   "execution_count": 11,
   "metadata": {},
   "outputs": [
    {
     "data": {
      "text/html": [
       "<div>\n",
       "<style scoped>\n",
       "    .dataframe tbody tr th:only-of-type {\n",
       "        vertical-align: middle;\n",
       "    }\n",
       "\n",
       "    .dataframe tbody tr th {\n",
       "        vertical-align: top;\n",
       "    }\n",
       "\n",
       "    .dataframe thead th {\n",
       "        text-align: right;\n",
       "    }\n",
       "</style>\n",
       "<table border=\"1\" class=\"dataframe\">\n",
       "  <thead>\n",
       "    <tr style=\"text-align: right;\">\n",
       "      <th></th>\n",
       "      <th>mean</th>\n",
       "      <th>sd</th>\n",
       "      <th>mc_error</th>\n",
       "      <th>hpd_2.5</th>\n",
       "      <th>hpd_97.5</th>\n",
       "      <th>n_eff</th>\n",
       "      <th>Rhat</th>\n",
       "    </tr>\n",
       "  </thead>\n",
       "  <tbody>\n",
       "    <tr>\n",
       "      <th>alpha</th>\n",
       "      <td>-23.35</td>\n",
       "      <td>4.20</td>\n",
       "      <td>8.23e-02</td>\n",
       "      <td>-32.08</td>\n",
       "      <td>-15.64</td>\n",
       "      <td>2208.26</td>\n",
       "      <td>1.0</td>\n",
       "    </tr>\n",
       "    <tr>\n",
       "      <th>beta</th>\n",
       "      <td>4.31</td>\n",
       "      <td>0.78</td>\n",
       "      <td>1.52e-02</td>\n",
       "      <td>2.82</td>\n",
       "      <td>5.86</td>\n",
       "      <td>2208.64</td>\n",
       "      <td>1.0</td>\n",
       "    </tr>\n",
       "    <tr>\n",
       "      <th>bd</th>\n",
       "      <td>5.42</td>\n",
       "      <td>0.07</td>\n",
       "      <td>6.66e-04</td>\n",
       "      <td>5.28</td>\n",
       "      <td>5.55</td>\n",
       "      <td>12503.60</td>\n",
       "      <td>1.0</td>\n",
       "    </tr>\n",
       "  </tbody>\n",
       "</table>\n",
       "</div>"
      ],
      "text/plain": [
       "        mean    sd  mc_error  hpd_2.5  hpd_97.5     n_eff  Rhat\n",
       "alpha -23.35  4.20  8.23e-02   -32.08    -15.64   2208.26   1.0\n",
       "beta    4.31  0.78  1.52e-02     2.82      5.86   2208.64   1.0\n",
       "bd      5.42  0.07  6.66e-04     5.28      5.55  12503.60   1.0"
      ]
     },
     "execution_count": 11,
     "metadata": {},
     "output_type": "execute_result"
    }
   ],
   "source": [
    "pm.summary(chain_0, varnames)"
   ]
  },
  {
   "cell_type": "code",
   "execution_count": 12,
   "metadata": {
    "collapsed": true
   },
   "outputs": [],
   "source": [
    "theta = chain_0['theta'].mean(axis=0)\n",
    "assert((100,) == theta.shape)\n",
    "idx = np.argsort(x_0)\n",
    "plt.plot(x_0[idx], theta[idx], color='b', lw=3)\n",
    "plt.vlines([chain_0['bd'].mean()], ymin=0, ymax=1, color='r')\n",
    "bd_hpd = pm.hpd(chain_0['bd'])\n",
    "\n",
    "plt.fill_betweenx([0, 1], bd_hpd[0], bd_hpd[1], color='r', alpha=0.5)\n",
    "plt.plot(x_0, y_0, 'o', color='k')\n",
    "theta_hpd = pm.hpd(chain_0['theta'])[idx]\n",
    "plt.fill_between(x_0[idx], theta_hpd[:,0], theta_hpd[:,1], color='b', alpha=0.5)\n",
    "plt.xlabel(x_n, fontsize=16)\n",
    "plt.ylabel(r'$\\theta$', rotation=0, fontsize=16)\n",
    "plt.savefig('img506.png')\n",
    "plt.close()"
   ]
  },
  {
   "cell_type": "code",
   "execution_count": 13,
   "metadata": {},
   "outputs": [
    {
     "data": {
      "text/plain": [
       "(array([0.14, 0.59, 0.93]), array([False,  True,  True]))"
      ]
     },
     "execution_count": 13,
     "metadata": {},
     "output_type": "execute_result"
    }
   ],
   "source": [
    "def classify(n, threshold):\n",
    "    n = np.array(n)\n",
    "    mu = chain_0['alpha'].mean() + chain_0['beta'].mean() * n\n",
    "    prob = 1 / (1 + np.exp(-mu))\n",
    "    return prob, prob >= threshold\n",
    "\n",
    "classify([5, 5.5, 6], 0.5)"
   ]
  },
  {
   "cell_type": "code",
   "execution_count": 14,
   "metadata": {
    "collapsed": true
   },
   "outputs": [],
   "source": [
    "df = iris.query(\"species == ('setosa', 'versicolor')\")\n",
    "y_1 = pd.Categorical(df['species']).codes\n",
    "x_n = ['sepal_length', 'sepal_width']\n",
    "x_1 = df[x_n].values"
   ]
  },
  {
   "cell_type": "code",
   "execution_count": 15,
   "metadata": {},
   "outputs": [
    {
     "data": {
      "text/plain": [
       "(100, 2)"
      ]
     },
     "execution_count": 15,
     "metadata": {},
     "output_type": "execute_result"
    }
   ],
   "source": [
    "x_1.shape"
   ]
  },
  {
   "cell_type": "code",
   "execution_count": 16,
   "metadata": {},
   "outputs": [
    {
     "data": {
      "text/plain": [
       "(100,)"
      ]
     },
     "execution_count": 16,
     "metadata": {},
     "output_type": "execute_result"
    }
   ],
   "source": [
    "y_1.shape"
   ]
  },
  {
   "cell_type": "code",
   "execution_count": 17,
   "metadata": {},
   "outputs": [
    {
     "data": {
      "text/plain": [
       "array([0, 0, 0, 0, 0, 0, 0, 0, 0, 0, 0, 0, 0, 0, 0, 0, 0, 0, 0, 0, 0, 0,\n",
       "       0, 0, 0, 0, 0, 0, 0, 0, 0, 0, 0, 0, 0, 0, 0, 0, 0, 0, 0, 0, 0, 0,\n",
       "       0, 0, 0, 0, 0, 0, 1, 1, 1, 1, 1, 1, 1, 1, 1, 1, 1, 1, 1, 1, 1, 1,\n",
       "       1, 1, 1, 1, 1, 1, 1, 1, 1, 1, 1, 1, 1, 1, 1, 1, 1, 1, 1, 1, 1, 1,\n",
       "       1, 1, 1, 1, 1, 1, 1, 1, 1, 1, 1, 1], dtype=int8)"
      ]
     },
     "execution_count": 17,
     "metadata": {},
     "output_type": "execute_result"
    }
   ],
   "source": [
    "y_1"
   ]
  },
  {
   "cell_type": "code",
   "execution_count": 18,
   "metadata": {},
   "outputs": [
    {
     "data": {
      "text/plain": [
       "array([0, 0, 0, 0, 0, 0, 0, 0, 0, 0, 0, 0, 0, 0, 0, 0, 0, 0, 0, 0, 0, 0,\n",
       "       0, 0, 0, 0, 0, 0, 0, 0, 0, 0, 0, 0, 0, 0, 0, 0, 0, 0, 0, 0, 0, 0,\n",
       "       0, 0, 0, 0, 0, 0, 1, 1, 1, 1, 1, 1, 1, 1, 1, 1, 1, 1, 1, 1, 1, 1,\n",
       "       1, 1, 1, 1, 1, 1, 1, 1, 1, 1, 1, 1, 1, 1, 1, 1, 1, 1, 1, 1, 1, 1,\n",
       "       1, 1, 1, 1, 1, 1, 1, 1, 1, 1, 1, 1], dtype=int8)"
      ]
     },
     "execution_count": 18,
     "metadata": {},
     "output_type": "execute_result"
    }
   ],
   "source": [
    "y_0"
   ]
  },
  {
   "cell_type": "code",
   "execution_count": 19,
   "metadata": {},
   "outputs": [
    {
     "name": "stderr",
     "output_type": "stream",
     "text": [
      "Auto-assigning NUTS sampler...\n",
      "Initializing NUTS using jitter+adapt_diag...\n",
      "Multiprocess sampling (4 chains in 4 jobs)\n",
      "NUTS: [beta, alpha]\n",
      "Sampling 4 chains: 100%|██████████| 22000/22000 [00:24<00:00, 906.46draws/s]\n",
      "The acceptance probability does not match the target. It is 0.8812380807700337, but should be close to 0.8. Try to increase the number of tuning steps.\n"
     ]
    }
   ],
   "source": [
    "with pm.Model() as model_1:\n",
    "    alpha = pm.Normal('alpha', mu=0, sd=10)\n",
    "    beta = pm.Normal('beta', mu=0, sd=2, shape=len(x_n))\n",
    "    mu = alpha + pm.math.dot(x_1, beta)\n",
    "    theta = 1 / (1 + pm.math.exp(-mu))\n",
    "    bd = pm.Deterministic('bd', -alpha / beta[1] - beta[0] / beta[1] * x_1[:, 0])\n",
    "    y1 = pm.Bernoulli('y1', p=theta, observed=y_1)\n",
    "    trace_1 = pm.sample(5000)\n",
    "\n",
    "chain_1 = trace_1[1000:]\n",
    "varnames = ['alpha', 'beta', 'bd']\n",
    "pm.traceplot(chain_1, varnames)\n",
    "plt.savefig('img507.png')\n",
    "plt.close()"
   ]
  },
  {
   "cell_type": "code",
   "execution_count": 20,
   "metadata": {},
   "outputs": [
    {
     "data": {
      "text/plain": [
       "(16000, 100)"
      ]
     },
     "execution_count": 20,
     "metadata": {},
     "output_type": "execute_result"
    }
   ],
   "source": [
    "chain_1['bd'].shape"
   ]
  },
  {
   "cell_type": "code",
   "execution_count": 21,
   "metadata": {},
   "outputs": [
    {
     "data": {
      "text/plain": [
       "(100, 2)"
      ]
     },
     "execution_count": 21,
     "metadata": {},
     "output_type": "execute_result"
    }
   ],
   "source": [
    "x_1.shape"
   ]
  },
  {
   "cell_type": "code",
   "execution_count": 22,
   "metadata": {
    "collapsed": true
   },
   "outputs": [],
   "source": [
    "idx = np.argsort(x_1[:, 0])\n",
    "ld = chain_1['bd'].mean(0)[idx]\n",
    "plt.scatter(x_1[:, 0], x_1[:, 1], c=y_0, cmap='viridis')\n",
    "plt.plot(x_1[:, 0][idx], ld, color='r')\n",
    "\n",
    "ld_hpd = pm.hpd(chain_1['bd'])[idx]\n",
    "plt.fill_between(x_1[:, 0][idx], ld_hpd[:, 0], ld_hpd[:, 1], color='r', alpha=0.5)\n",
    "plt.xlabel(x_n[0], fontsize=16)\n",
    "plt.ylabel(x_n[1], fontsize=16)\n",
    "plt.savefig('img508.png')\n",
    "plt.close()"
   ]
  },
  {
   "cell_type": "code",
   "execution_count": 23,
   "metadata": {
    "collapsed": true
   },
   "outputs": [],
   "source": [
    "corr = iris[iris['species'] != 'virginica'].corr()\n",
    "mask = np.tri(*corr.shape).T\n",
    "sns.heatmap(corr.abs(), mask=mask, annot=True, cmap='viridis')\n",
    "plt.savefig('img509.png')"
   ]
  },
  {
   "cell_type": "code",
   "execution_count": 24,
   "metadata": {
    "collapsed": true
   },
   "outputs": [],
   "source": [
    "df = iris.query(\"species == ('setosa', 'versicolor')\")\n",
    "df = df[45:]\n",
    "y_3 = pd.Categorical(df['species']).codes\n",
    "x_n = ['sepal_length', 'sepal_width']\n",
    "x_3 = df[x_n].values"
   ]
  },
  {
   "cell_type": "code",
   "execution_count": 25,
   "metadata": {},
   "outputs": [
    {
     "name": "stderr",
     "output_type": "stream",
     "text": [
      "Auto-assigning NUTS sampler...\n",
      "Initializing NUTS using jitter+adapt_diag...\n",
      "Multiprocess sampling (4 chains in 4 jobs)\n",
      "NUTS: [beta, alpha]\n",
      "Sampling 4 chains: 100%|██████████| 22000/22000 [00:20<00:00, 1074.41draws/s]\n",
      "There were 13 divergences after tuning. Increase `target_accept` or reparameterize.\n",
      "There were 17 divergences after tuning. Increase `target_accept` or reparameterize.\n",
      "There were 15 divergences after tuning. Increase `target_accept` or reparameterize.\n",
      "There were 19 divergences after tuning. Increase `target_accept` or reparameterize.\n"
     ]
    }
   ],
   "source": [
    "with pm.Model() as model_1:\n",
    "    alpha = pm.Normal('alpha', mu=0, sd=10)\n",
    "    beta = pm.Normal('beta', mu=0, sd=2, shape=len(x_n))\n",
    "    mu = alpha + pm.math.dot(x_3, beta)\n",
    "    theta = 1 / (1 + pm.math.exp(-mu))\n",
    "    bd = pm.Deterministic('bd', -alpha / beta[1] - beta[0] / beta[1] * x_3[:, 0])\n",
    "    y1 = pm.Bernoulli('y3', p=theta, observed=y_3)\n",
    "    trace_3 = pm.sample(5000)\n",
    "\n",
    "chain_3 = trace_3[1000:]\n",
    "varnames = ['alpha', 'beta', 'bd']\n",
    "pm.traceplot(chain_3, varnames)\n",
    "plt.savefig('img507_1.png')\n",
    "plt.close()"
   ]
  },
  {
   "cell_type": "code",
   "execution_count": 26,
   "metadata": {},
   "outputs": [
    {
     "data": {
      "text/plain": [
       "(16000, 55)"
      ]
     },
     "execution_count": 26,
     "metadata": {},
     "output_type": "execute_result"
    }
   ],
   "source": [
    "chain_3['bd'].shape"
   ]
  },
  {
   "cell_type": "code",
   "execution_count": 27,
   "metadata": {},
   "outputs": [
    {
     "data": {
      "text/plain": [
       "(55, 2)"
      ]
     },
     "execution_count": 27,
     "metadata": {},
     "output_type": "execute_result"
    }
   ],
   "source": [
    "x_3.shape"
   ]
  },
  {
   "cell_type": "code",
   "execution_count": 28,
   "metadata": {
    "collapsed": true
   },
   "outputs": [],
   "source": [
    "idx = np.argsort(x_3[:, 0])\n",
    "ld = chain_3['bd'].mean(0)[idx]\n",
    "plt.scatter(x_3[:, 0], x_3[:, 1], c=y_3, cmap='viridis')\n",
    "plt.plot(x_3[:, 0][idx], ld, color='r')\n",
    "\n",
    "ld_hpd = pm.hpd(chain_3['bd'])[idx]\n",
    "plt.fill_between(x_3[:, 0][idx], ld_hpd[:, 0], ld_hpd[:, 1], color='r', alpha=0.5)\n",
    "plt.xlabel(x_n[0], fontsize=16)\n",
    "plt.ylabel(x_n[1], fontsize=16)\n",
    "plt.savefig('img510.png')\n",
    "plt.close()"
   ]
  },
  {
   "cell_type": "code",
   "execution_count": 29,
   "metadata": {
    "collapsed": true
   },
   "outputs": [],
   "source": [
    "iris = sns.load_dataset(\"iris\")\n",
    "y_s = pd.Categorical(iris['species']).codes\n",
    "x_n = iris.columns[:-1]\n",
    "x_s = iris[x_n].values\n",
    "x_s = (x_s - x_s.mean(axis=0)) / x_s.std(axis=0)"
   ]
  },
  {
   "cell_type": "code",
   "execution_count": 30,
   "metadata": {},
   "outputs": [
    {
     "data": {
      "text/plain": [
       "(150, 4)"
      ]
     },
     "execution_count": 30,
     "metadata": {},
     "output_type": "execute_result"
    }
   ],
   "source": [
    "x_s.shape"
   ]
  },
  {
   "cell_type": "code",
   "execution_count": 31,
   "metadata": {},
   "outputs": [
    {
     "name": "stderr",
     "output_type": "stream",
     "text": [
      "Auto-assigning NUTS sampler...\n",
      "Initializing NUTS using jitter+adapt_diag...\n",
      "Sequential sampling (2 chains in 1 job)\n",
      "NUTS: [beta, alpha]\n",
      "100%|██████████| 2500/2500 [00:14<00:00, 176.16it/s]\n",
      "100%|██████████| 2500/2500 [00:13<00:00, 185.95it/s]\n"
     ]
    }
   ],
   "source": [
    "import theano.tensor as tt\n",
    "\n",
    "with pm.Model() as model_s:\n",
    "    alpha = pm.Normal('alpha', mu=0, sd=2, shape=3)\n",
    "    beta = pm.Normal('beta', mu=0, sd=2, shape=(4, 3))\n",
    "    mu = alpha + pm.math.dot(x_s, beta)\n",
    "    theta = tt.nnet.softmax(mu)\n",
    "    yl = pm.Categorical('yl', p=theta, observed=y_s)\n",
    "    trace_s = pm.sample(2000, njobs=1)\n",
    "\n",
    "pm.traceplot(trace_s)\n",
    "plt.savefig('img512.png')\n",
    "plt.close()"
   ]
  },
  {
   "cell_type": "code",
   "execution_count": 32,
   "metadata": {},
   "outputs": [
    {
     "data": {
      "text/plain": [
       "{'alpha': array([1., 1., 1.]), 'beta': array([[1., 1., 1.],\n",
       "        [1., 1., 1.],\n",
       "        [1., 1., 1.],\n",
       "        [1., 1., 1.]])}"
      ]
     },
     "execution_count": 32,
     "metadata": {},
     "output_type": "execute_result"
    }
   ],
   "source": [
    "pm.gelman_rubin(trace_s)"
   ]
  },
  {
   "cell_type": "code",
   "execution_count": 33,
   "metadata": {},
   "outputs": [
    {
     "data": {
      "text/plain": [
       "(4000, 3)"
      ]
     },
     "execution_count": 33,
     "metadata": {},
     "output_type": "execute_result"
    }
   ],
   "source": [
    "trace_alpha = trace_s['alpha']\n",
    "trace_alpha.shape"
   ]
  },
  {
   "cell_type": "code",
   "execution_count": 34,
   "metadata": {},
   "outputs": [
    {
     "data": {
      "text/plain": [
       "(4000, 4, 3)"
      ]
     },
     "execution_count": 34,
     "metadata": {},
     "output_type": "execute_result"
    }
   ],
   "source": [
    "trace_beta = trace_s['beta']\n",
    "trace_beta.shape"
   ]
  },
  {
   "cell_type": "code",
   "execution_count": 35,
   "metadata": {},
   "outputs": [
    {
     "name": "stdout",
     "output_type": "stream",
     "text": [
      "data_pred.shape (150, 3)\n",
      "data_pred[0].shape (3,)\n",
      "len(y_pred) 150\n",
      "y_pred[0].shape (3,)\n"
     ]
    },
    {
     "data": {
      "text/plain": [
       "0.9733333333333334"
      ]
     },
     "execution_count": 35,
     "metadata": {},
     "output_type": "execute_result"
    }
   ],
   "source": [
    "data_pred = trace_alpha.mean(axis=0) + np.dot(x_s, trace_beta.mean(axis=0))\n",
    "print('data_pred.shape', data_pred.shape)\n",
    "y_pred = []\n",
    "print('data_pred[0].shape', data_pred[0].shape)\n",
    "for point in data_pred:\n",
    "    y_pred.append(np.exp(point) / np.sum(np.exp(point), axis=0))\n",
    "print('len(y_pred)', len(y_pred))\n",
    "print('y_pred[0].shape', y_pred[0].shape)\n",
    "np.sum(y_s == np.argmax(y_pred, axis=1)) / len(y_s)"
   ]
  },
  {
   "cell_type": "code",
   "execution_count": 36,
   "metadata": {},
   "outputs": [
    {
     "data": {
      "text/html": [
       "<div>\n",
       "<style scoped>\n",
       "    .dataframe tbody tr th:only-of-type {\n",
       "        vertical-align: middle;\n",
       "    }\n",
       "\n",
       "    .dataframe tbody tr th {\n",
       "        vertical-align: top;\n",
       "    }\n",
       "\n",
       "    .dataframe thead th {\n",
       "        text-align: right;\n",
       "    }\n",
       "</style>\n",
       "<table border=\"1\" class=\"dataframe\">\n",
       "  <thead>\n",
       "    <tr style=\"text-align: right;\">\n",
       "      <th></th>\n",
       "      <th>mean</th>\n",
       "      <th>sd</th>\n",
       "      <th>mc_error</th>\n",
       "      <th>hpd_2.5</th>\n",
       "      <th>hpd_97.5</th>\n",
       "      <th>n_eff</th>\n",
       "      <th>Rhat</th>\n",
       "    </tr>\n",
       "  </thead>\n",
       "  <tbody>\n",
       "    <tr>\n",
       "      <th>alpha__0</th>\n",
       "      <td>-0.52</td>\n",
       "      <td>1.53</td>\n",
       "      <td>0.03</td>\n",
       "      <td>-3.38</td>\n",
       "      <td>2.54</td>\n",
       "      <td>3715.65</td>\n",
       "      <td>1.0</td>\n",
       "    </tr>\n",
       "    <tr>\n",
       "      <th>alpha__1</th>\n",
       "      <td>3.13</td>\n",
       "      <td>1.33</td>\n",
       "      <td>0.02</td>\n",
       "      <td>0.57</td>\n",
       "      <td>5.71</td>\n",
       "      <td>3378.43</td>\n",
       "      <td>1.0</td>\n",
       "    </tr>\n",
       "    <tr>\n",
       "      <th>alpha__2</th>\n",
       "      <td>-2.66</td>\n",
       "      <td>1.40</td>\n",
       "      <td>0.02</td>\n",
       "      <td>-5.29</td>\n",
       "      <td>0.29</td>\n",
       "      <td>3264.42</td>\n",
       "      <td>1.0</td>\n",
       "    </tr>\n",
       "    <tr>\n",
       "      <th>beta__0_0</th>\n",
       "      <td>-1.51</td>\n",
       "      <td>1.71</td>\n",
       "      <td>0.03</td>\n",
       "      <td>-4.82</td>\n",
       "      <td>1.83</td>\n",
       "      <td>4132.15</td>\n",
       "      <td>1.0</td>\n",
       "    </tr>\n",
       "    <tr>\n",
       "      <th>beta__0_1</th>\n",
       "      <td>1.06</td>\n",
       "      <td>1.37</td>\n",
       "      <td>0.02</td>\n",
       "      <td>-1.68</td>\n",
       "      <td>3.56</td>\n",
       "      <td>3750.82</td>\n",
       "      <td>1.0</td>\n",
       "    </tr>\n",
       "    <tr>\n",
       "      <th>beta__0_2</th>\n",
       "      <td>0.53</td>\n",
       "      <td>1.38</td>\n",
       "      <td>0.02</td>\n",
       "      <td>-2.15</td>\n",
       "      <td>3.26</td>\n",
       "      <td>3824.89</td>\n",
       "      <td>1.0</td>\n",
       "    </tr>\n",
       "    <tr>\n",
       "      <th>beta__1_0</th>\n",
       "      <td>1.82</td>\n",
       "      <td>1.39</td>\n",
       "      <td>0.02</td>\n",
       "      <td>-1.14</td>\n",
       "      <td>4.27</td>\n",
       "      <td>3188.23</td>\n",
       "      <td>1.0</td>\n",
       "    </tr>\n",
       "    <tr>\n",
       "      <th>beta__1_1</th>\n",
       "      <td>-0.55</td>\n",
       "      <td>1.24</td>\n",
       "      <td>0.02</td>\n",
       "      <td>-2.97</td>\n",
       "      <td>1.87</td>\n",
       "      <td>2566.94</td>\n",
       "      <td>1.0</td>\n",
       "    </tr>\n",
       "    <tr>\n",
       "      <th>beta__1_2</th>\n",
       "      <td>-1.23</td>\n",
       "      <td>1.26</td>\n",
       "      <td>0.02</td>\n",
       "      <td>-3.64</td>\n",
       "      <td>1.27</td>\n",
       "      <td>2843.76</td>\n",
       "      <td>1.0</td>\n",
       "    </tr>\n",
       "    <tr>\n",
       "      <th>beta__2_0</th>\n",
       "      <td>-3.21</td>\n",
       "      <td>1.73</td>\n",
       "      <td>0.03</td>\n",
       "      <td>-6.59</td>\n",
       "      <td>0.17</td>\n",
       "      <td>4575.41</td>\n",
       "      <td>1.0</td>\n",
       "    </tr>\n",
       "    <tr>\n",
       "      <th>beta__2_1</th>\n",
       "      <td>-0.61</td>\n",
       "      <td>1.55</td>\n",
       "      <td>0.03</td>\n",
       "      <td>-3.81</td>\n",
       "      <td>2.25</td>\n",
       "      <td>3596.24</td>\n",
       "      <td>1.0</td>\n",
       "    </tr>\n",
       "    <tr>\n",
       "      <th>beta__2_2</th>\n",
       "      <td>3.79</td>\n",
       "      <td>1.60</td>\n",
       "      <td>0.03</td>\n",
       "      <td>0.59</td>\n",
       "      <td>6.82</td>\n",
       "      <td>4038.57</td>\n",
       "      <td>1.0</td>\n",
       "    </tr>\n",
       "    <tr>\n",
       "      <th>beta__3_0</th>\n",
       "      <td>-2.98</td>\n",
       "      <td>1.74</td>\n",
       "      <td>0.03</td>\n",
       "      <td>-6.42</td>\n",
       "      <td>0.33</td>\n",
       "      <td>4089.24</td>\n",
       "      <td>1.0</td>\n",
       "    </tr>\n",
       "    <tr>\n",
       "      <th>beta__3_1</th>\n",
       "      <td>-1.03</td>\n",
       "      <td>1.49</td>\n",
       "      <td>0.02</td>\n",
       "      <td>-3.94</td>\n",
       "      <td>1.86</td>\n",
       "      <td>4018.30</td>\n",
       "      <td>1.0</td>\n",
       "    </tr>\n",
       "    <tr>\n",
       "      <th>beta__3_2</th>\n",
       "      <td>3.98</td>\n",
       "      <td>1.56</td>\n",
       "      <td>0.02</td>\n",
       "      <td>0.92</td>\n",
       "      <td>7.05</td>\n",
       "      <td>4234.27</td>\n",
       "      <td>1.0</td>\n",
       "    </tr>\n",
       "  </tbody>\n",
       "</table>\n",
       "</div>"
      ],
      "text/plain": [
       "           mean    sd  mc_error  hpd_2.5  hpd_97.5    n_eff  Rhat\n",
       "alpha__0  -0.52  1.53      0.03    -3.38      2.54  3715.65   1.0\n",
       "alpha__1   3.13  1.33      0.02     0.57      5.71  3378.43   1.0\n",
       "alpha__2  -2.66  1.40      0.02    -5.29      0.29  3264.42   1.0\n",
       "beta__0_0 -1.51  1.71      0.03    -4.82      1.83  4132.15   1.0\n",
       "beta__0_1  1.06  1.37      0.02    -1.68      3.56  3750.82   1.0\n",
       "beta__0_2  0.53  1.38      0.02    -2.15      3.26  3824.89   1.0\n",
       "beta__1_0  1.82  1.39      0.02    -1.14      4.27  3188.23   1.0\n",
       "beta__1_1 -0.55  1.24      0.02    -2.97      1.87  2566.94   1.0\n",
       "beta__1_2 -1.23  1.26      0.02    -3.64      1.27  2843.76   1.0\n",
       "beta__2_0 -3.21  1.73      0.03    -6.59      0.17  4575.41   1.0\n",
       "beta__2_1 -0.61  1.55      0.03    -3.81      2.25  3596.24   1.0\n",
       "beta__2_2  3.79  1.60      0.03     0.59      6.82  4038.57   1.0\n",
       "beta__3_0 -2.98  1.74      0.03    -6.42      0.33  4089.24   1.0\n",
       "beta__3_1 -1.03  1.49      0.02    -3.94      1.86  4018.30   1.0\n",
       "beta__3_2  3.98  1.56      0.02     0.92      7.05  4234.27   1.0"
      ]
     },
     "execution_count": 36,
     "metadata": {},
     "output_type": "execute_result"
    }
   ],
   "source": [
    "pm.summary(trace_s)"
   ]
  },
  {
   "cell_type": "code",
   "execution_count": 37,
   "metadata": {},
   "outputs": [
    {
     "name": "stderr",
     "output_type": "stream",
     "text": [
      "Auto-assigning NUTS sampler...\n",
      "Initializing NUTS using jitter+adapt_diag...\n",
      "Sequential sampling (2 chains in 1 job)\n",
      "NUTS: [beta, alpha]\n",
      "100%|██████████| 2500/2500 [00:11<00:00, 212.05it/s]\n",
      "100%|██████████| 2500/2500 [00:11<00:00, 215.01it/s]\n"
     ]
    }
   ],
   "source": [
    "with pm.Model() as model_s:\n",
    "    alpha = pm.Normal('alpha', mu=0, sd=2, shape=2)\n",
    "    beta = pm.Normal('beta', mu=0, sd=2, shape=(4, 2))\n",
    "    alpha_f = tt.concatenate([[0], alpha])\n",
    "    beta_f = tt.concatenate([np.zeros((4, 1)), beta], axis=1)\n",
    "    mu = alpha_f + pm.math.dot(x_s, beta_f)\n",
    "    theta = tt.nnet.softmax(mu)\n",
    "    yl = pm.Categorical('yl', p=theta, observed=y_s)\n",
    "    trace_sf = pm.sample(2000, njobs=1)\n",
    "\n",
    "pm.traceplot(trace_sf)\n",
    "plt.savefig('img513.png')\n",
    "plt.close()"
   ]
  },
  {
   "cell_type": "code",
   "execution_count": 38,
   "metadata": {},
   "outputs": [
    {
     "data": {
      "text/plain": [
       "{'alpha': array([1., 1.]), 'beta': array([[1., 1.],\n",
       "        [1., 1.],\n",
       "        [1., 1.],\n",
       "        [1., 1.]])}"
      ]
     },
     "execution_count": 38,
     "metadata": {},
     "output_type": "execute_result"
    }
   ],
   "source": [
    "pm.gelman_rubin(trace_sf)"
   ]
  },
  {
   "cell_type": "code",
   "execution_count": 39,
   "metadata": {},
   "outputs": [
    {
     "data": {
      "text/html": [
       "<div>\n",
       "<style scoped>\n",
       "    .dataframe tbody tr th:only-of-type {\n",
       "        vertical-align: middle;\n",
       "    }\n",
       "\n",
       "    .dataframe tbody tr th {\n",
       "        vertical-align: top;\n",
       "    }\n",
       "\n",
       "    .dataframe thead th {\n",
       "        text-align: right;\n",
       "    }\n",
       "</style>\n",
       "<table border=\"1\" class=\"dataframe\">\n",
       "  <thead>\n",
       "    <tr style=\"text-align: right;\">\n",
       "      <th></th>\n",
       "      <th>mean</th>\n",
       "      <th>sd</th>\n",
       "      <th>mc_error</th>\n",
       "      <th>hpd_2.5</th>\n",
       "      <th>hpd_97.5</th>\n",
       "      <th>n_eff</th>\n",
       "      <th>Rhat</th>\n",
       "    </tr>\n",
       "  </thead>\n",
       "  <tbody>\n",
       "    <tr>\n",
       "      <th>alpha__0</th>\n",
       "      <td>2.61</td>\n",
       "      <td>0.84</td>\n",
       "      <td>0.02</td>\n",
       "      <td>1.09</td>\n",
       "      <td>4.31</td>\n",
       "      <td>2066.69</td>\n",
       "      <td>1.0</td>\n",
       "    </tr>\n",
       "    <tr>\n",
       "      <th>alpha__1</th>\n",
       "      <td>-2.41</td>\n",
       "      <td>1.11</td>\n",
       "      <td>0.02</td>\n",
       "      <td>-4.61</td>\n",
       "      <td>-0.30</td>\n",
       "      <td>2201.70</td>\n",
       "      <td>1.0</td>\n",
       "    </tr>\n",
       "    <tr>\n",
       "      <th>beta__0_0</th>\n",
       "      <td>2.09</td>\n",
       "      <td>1.11</td>\n",
       "      <td>0.02</td>\n",
       "      <td>-0.19</td>\n",
       "      <td>4.11</td>\n",
       "      <td>1977.38</td>\n",
       "      <td>1.0</td>\n",
       "    </tr>\n",
       "    <tr>\n",
       "      <th>beta__0_1</th>\n",
       "      <td>1.60</td>\n",
       "      <td>1.15</td>\n",
       "      <td>0.02</td>\n",
       "      <td>-0.66</td>\n",
       "      <td>3.83</td>\n",
       "      <td>2039.65</td>\n",
       "      <td>1.0</td>\n",
       "    </tr>\n",
       "    <tr>\n",
       "      <th>beta__1_0</th>\n",
       "      <td>-1.87</td>\n",
       "      <td>0.70</td>\n",
       "      <td>0.01</td>\n",
       "      <td>-3.33</td>\n",
       "      <td>-0.57</td>\n",
       "      <td>2368.41</td>\n",
       "      <td>1.0</td>\n",
       "    </tr>\n",
       "    <tr>\n",
       "      <th>beta__1_1</th>\n",
       "      <td>-2.35</td>\n",
       "      <td>0.83</td>\n",
       "      <td>0.02</td>\n",
       "      <td>-3.99</td>\n",
       "      <td>-0.74</td>\n",
       "      <td>2497.74</td>\n",
       "      <td>1.0</td>\n",
       "    </tr>\n",
       "    <tr>\n",
       "      <th>beta__2_0</th>\n",
       "      <td>1.74</td>\n",
       "      <td>1.28</td>\n",
       "      <td>0.03</td>\n",
       "      <td>-0.66</td>\n",
       "      <td>4.32</td>\n",
       "      <td>2208.51</td>\n",
       "      <td>1.0</td>\n",
       "    </tr>\n",
       "    <tr>\n",
       "      <th>beta__2_1</th>\n",
       "      <td>5.48</td>\n",
       "      <td>1.46</td>\n",
       "      <td>0.03</td>\n",
       "      <td>2.54</td>\n",
       "      <td>8.30</td>\n",
       "      <td>2520.80</td>\n",
       "      <td>1.0</td>\n",
       "    </tr>\n",
       "    <tr>\n",
       "      <th>beta__3_0</th>\n",
       "      <td>1.15</td>\n",
       "      <td>1.25</td>\n",
       "      <td>0.03</td>\n",
       "      <td>-1.20</td>\n",
       "      <td>3.70</td>\n",
       "      <td>2202.82</td>\n",
       "      <td>1.0</td>\n",
       "    </tr>\n",
       "    <tr>\n",
       "      <th>beta__3_1</th>\n",
       "      <td>5.68</td>\n",
       "      <td>1.37</td>\n",
       "      <td>0.02</td>\n",
       "      <td>3.06</td>\n",
       "      <td>8.34</td>\n",
       "      <td>2774.04</td>\n",
       "      <td>1.0</td>\n",
       "    </tr>\n",
       "  </tbody>\n",
       "</table>\n",
       "</div>"
      ],
      "text/plain": [
       "           mean    sd  mc_error  hpd_2.5  hpd_97.5    n_eff  Rhat\n",
       "alpha__0   2.61  0.84      0.02     1.09      4.31  2066.69   1.0\n",
       "alpha__1  -2.41  1.11      0.02    -4.61     -0.30  2201.70   1.0\n",
       "beta__0_0  2.09  1.11      0.02    -0.19      4.11  1977.38   1.0\n",
       "beta__0_1  1.60  1.15      0.02    -0.66      3.83  2039.65   1.0\n",
       "beta__1_0 -1.87  0.70      0.01    -3.33     -0.57  2368.41   1.0\n",
       "beta__1_1 -2.35  0.83      0.02    -3.99     -0.74  2497.74   1.0\n",
       "beta__2_0  1.74  1.28      0.03    -0.66      4.32  2208.51   1.0\n",
       "beta__2_1  5.48  1.46      0.03     2.54      8.30  2520.80   1.0\n",
       "beta__3_0  1.15  1.25      0.03    -1.20      3.70  2202.82   1.0\n",
       "beta__3_1  5.68  1.37      0.02     3.06      8.34  2774.04   1.0"
      ]
     },
     "execution_count": 39,
     "metadata": {},
     "output_type": "execute_result"
    }
   ],
   "source": [
    "pm.summary(trace_sf)"
   ]
  },
  {
   "cell_type": "code",
   "execution_count": 40,
   "metadata": {},
   "outputs": [
    {
     "name": "stdout",
     "output_type": "stream",
     "text": [
      "A (4000, 3)\n",
      "B (4000, 4, 3)\n",
      "data_pred[0].shape (3,)\n",
      "len(y_pred) 150\n",
      "y_pred[0].shape (3,)\n"
     ]
    },
    {
     "data": {
      "text/plain": [
       "0.9733333333333334"
      ]
     },
     "execution_count": 40,
     "metadata": {},
     "output_type": "execute_result"
    }
   ],
   "source": [
    "trace_alpha = trace_sf['alpha']\n",
    "zeros = np.zeros((4000, 1))\n",
    "trace_alpha = np.concatenate([zeros, trace_alpha], axis=1)\n",
    "print('A', trace_alpha.shape)\n",
    "\n",
    "trace_beta = trace_sf['beta']\n",
    "zeros = np.zeros((4000, 4, 1))\n",
    "trace_beta = np.concatenate([zeros, trace_beta], axis=2)\n",
    "print('B', trace_beta.shape)\n",
    "\n",
    "data_pred = trace_alpha.mean(axis=0) + np.dot(x_s, trace_beta.mean(axis=0))\n",
    "y_pred = []\n",
    "print('data_pred[0].shape', data_pred[0].shape)\n",
    "for point in data_pred:\n",
    "    y_pred.append(np.exp(point) / np.sum(np.exp(point), axis=0))\n",
    "print('len(y_pred)', len(y_pred))\n",
    "print('y_pred[0].shape', y_pred[0].shape)\n",
    "np.sum(y_s == np.argmax(y_pred, axis=1)) / len(y_s)"
   ]
  },
  {
   "cell_type": "code",
   "execution_count": 41,
   "metadata": {},
   "outputs": [
    {
     "name": "stderr",
     "output_type": "stream",
     "text": [
      "Auto-assigning NUTS sampler...\n",
      "Initializing NUTS using jitter+adapt_diag...\n",
      "Sequential sampling (2 chains in 1 job)\n",
      "NUTS: [sigma, mus]\n",
      "100%|██████████| 5500/5500 [00:03<00:00, 1417.57it/s]\n",
      "100%|██████████| 5500/5500 [00:06<00:00, 839.68it/s] \n",
      "The acceptance probability does not match the target. It is 0.8913916849381465, but should be close to 0.8. Try to increase the number of tuning steps.\n"
     ]
    }
   ],
   "source": [
    "with pm.Model() as model_lda:\n",
    "    mus = pm.Normal('mus', mu=0, sd=10, shape=2)\n",
    "    sigma = pm.HalfCauchy('sigma', 5)\n",
    "    setosa = pm.Normal('setosa', mu=mus[0], sd=sigma, observed=x_0[:50])\n",
    "    versicolor = pm.Normal('versicolor', mu=mus[1], sd=sigma, observed=x_0[50:])\n",
    "    bd = pm.Deterministic('bd', (mus[0] + mus[1]) / 2)\n",
    "    trace_lda = pm.sample(5000, njobs=1)\n",
    "\n",
    "pm.traceplot(trace_lda)\n",
    "plt.savefig('img514.png')\n",
    "plt.close()"
   ]
  },
  {
   "cell_type": "code",
   "execution_count": 42,
   "metadata": {},
   "outputs": [
    {
     "data": {
      "text/html": [
       "<div>\n",
       "<style scoped>\n",
       "    .dataframe tbody tr th:only-of-type {\n",
       "        vertical-align: middle;\n",
       "    }\n",
       "\n",
       "    .dataframe tbody tr th {\n",
       "        vertical-align: top;\n",
       "    }\n",
       "\n",
       "    .dataframe thead th {\n",
       "        text-align: right;\n",
       "    }\n",
       "</style>\n",
       "<table border=\"1\" class=\"dataframe\">\n",
       "  <thead>\n",
       "    <tr style=\"text-align: right;\">\n",
       "      <th></th>\n",
       "      <th>mean</th>\n",
       "      <th>sd</th>\n",
       "      <th>mc_error</th>\n",
       "      <th>hpd_2.5</th>\n",
       "      <th>hpd_97.5</th>\n",
       "      <th>n_eff</th>\n",
       "      <th>Rhat</th>\n",
       "    </tr>\n",
       "  </thead>\n",
       "  <tbody>\n",
       "    <tr>\n",
       "      <th>mus__0</th>\n",
       "      <td>5.01</td>\n",
       "      <td>0.06</td>\n",
       "      <td>6.52e-04</td>\n",
       "      <td>4.88</td>\n",
       "      <td>5.13</td>\n",
       "      <td>10983.51</td>\n",
       "      <td>1.0</td>\n",
       "    </tr>\n",
       "    <tr>\n",
       "      <th>mus__1</th>\n",
       "      <td>5.94</td>\n",
       "      <td>0.06</td>\n",
       "      <td>5.98e-04</td>\n",
       "      <td>5.81</td>\n",
       "      <td>6.06</td>\n",
       "      <td>10140.72</td>\n",
       "      <td>1.0</td>\n",
       "    </tr>\n",
       "    <tr>\n",
       "      <th>sigma</th>\n",
       "      <td>0.45</td>\n",
       "      <td>0.03</td>\n",
       "      <td>3.11e-04</td>\n",
       "      <td>0.39</td>\n",
       "      <td>0.51</td>\n",
       "      <td>10259.14</td>\n",
       "      <td>1.0</td>\n",
       "    </tr>\n",
       "    <tr>\n",
       "      <th>bd</th>\n",
       "      <td>5.47</td>\n",
       "      <td>0.05</td>\n",
       "      <td>4.25e-04</td>\n",
       "      <td>5.38</td>\n",
       "      <td>5.56</td>\n",
       "      <td>10923.74</td>\n",
       "      <td>1.0</td>\n",
       "    </tr>\n",
       "  </tbody>\n",
       "</table>\n",
       "</div>"
      ],
      "text/plain": [
       "        mean    sd  mc_error  hpd_2.5  hpd_97.5     n_eff  Rhat\n",
       "mus__0  5.01  0.06  6.52e-04     4.88      5.13  10983.51   1.0\n",
       "mus__1  5.94  0.06  5.98e-04     5.81      6.06  10140.72   1.0\n",
       "sigma   0.45  0.03  3.11e-04     0.39      0.51  10259.14   1.0\n",
       "bd      5.47  0.05  4.25e-04     5.38      5.56  10923.74   1.0"
      ]
     },
     "execution_count": 42,
     "metadata": {},
     "output_type": "execute_result"
    }
   ],
   "source": [
    "pm.summary(trace_lda)"
   ]
  },
  {
   "cell_type": "code",
   "execution_count": null,
   "metadata": {
    "collapsed": true
   },
   "outputs": [],
   "source": []
  }
 ],
 "metadata": {
  "kernelspec": {
   "display_name": "Python 3",
   "language": "python",
   "name": "python3"
  },
  "language_info": {
   "codemirror_mode": {
    "name": "ipython",
    "version": 3
   },
   "file_extension": ".py",
   "mimetype": "text/x-python",
   "name": "python",
   "nbconvert_exporter": "python",
   "pygments_lexer": "ipython3",
   "version": "3.6.2"
  }
 },
 "nbformat": 4,
 "nbformat_minor": 2
}
